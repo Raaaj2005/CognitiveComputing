{
 "cells": [
  {
   "cell_type": "code",
   "execution_count": 12,
   "id": "ced394aa-1045-4ca0-97cd-2374c00ad258",
   "metadata": {},
   "outputs": [
    {
     "name": "stdout",
     "output_type": "stream",
     "text": [
      "[10, 20, 30, 40, 50, 60, 70, 80]\n"
     ]
    }
   ],
   "source": [
    "# Q 1\n",
    "lst = [10, 20, 30, 40, 50, 60, 70, 80]\n",
    "print (lst)"
   ]
  },
  {
   "cell_type": "code",
   "execution_count": 13,
   "id": "96a9afe4-0824-474b-ba9a-a794f1f7c34b",
   "metadata": {},
   "outputs": [
    {
     "name": "stdout",
     "output_type": "stream",
     "text": [
      "[10, 20, 30, 40, 50, 60, 70, 80, 200, 300]\n"
     ]
    }
   ],
   "source": [
    "# Q 1 (i)\n",
    "lst.append (200)\n",
    "lst.append (300)\n",
    "print (lst)"
   ]
  },
  {
   "cell_type": "code",
   "execution_count": 14,
   "id": "9d43e5cd-41ba-4046-aa0a-63824ce2457a",
   "metadata": {},
   "outputs": [
    {
     "name": "stdout",
     "output_type": "stream",
     "text": [
      "[20, 40, 50, 60, 70, 80, 200, 300]\n"
     ]
    }
   ],
   "source": [
    "# Q 1 (ii)\n",
    "lst.remove (10)\n",
    "lst.remove (30)\n",
    "print (lst)"
   ]
  },
  {
   "cell_type": "code",
   "execution_count": 15,
   "id": "6322ba1b-819a-4962-8c3a-877612054511",
   "metadata": {},
   "outputs": [
    {
     "name": "stdout",
     "output_type": "stream",
     "text": [
      "[20, 40, 50, 60, 70, 80, 200, 300]\n"
     ]
    }
   ],
   "source": [
    "# Q 1 (iii)\n",
    "lst.sort()\n",
    "print (lst)"
   ]
  },
  {
   "cell_type": "code",
   "execution_count": 11,
   "id": "9d7847a7-c9bf-41b8-b750-4a8646dc5e37",
   "metadata": {},
   "outputs": [
    {
     "name": "stdout",
     "output_type": "stream",
     "text": [
      "[20, 40, 50, 60, 70, 80, 200, 300]\n"
     ]
    }
   ],
   "source": [
    "# Q 1 (iv)\n",
    "lst.reverse ()\n",
    "print (lst)"
   ]
  },
  {
   "cell_type": "code",
   "execution_count": 10,
   "id": "d34c7c53-3ca8-4399-a471-ef794a2bd40e",
   "metadata": {},
   "outputs": [
    {
     "name": "stdout",
     "output_type": "stream",
     "text": [
      "(45, 89.5, 76, 45.4, 89, 92, 58, 45)\n"
     ]
    }
   ],
   "source": [
    "# Q 2\n",
    "t = (45, 89.5, 76, 45.4, 89, 92, 58, 45)\n",
    "print (t)"
   ]
  },
  {
   "cell_type": "code",
   "execution_count": 16,
   "id": "06660125-91ae-4f18-a409-3fa7b0df067d",
   "metadata": {},
   "outputs": [
    {
     "name": "stdout",
     "output_type": "stream",
     "text": [
      "92\n",
      "5\n"
     ]
    }
   ],
   "source": [
    "# Q 2 (i)\n",
    "print (max(t))\n",
    "print (t.index(max(t)))"
   ]
  },
  {
   "cell_type": "code",
   "execution_count": 17,
   "id": "a70c1625-017a-4d78-95f0-68a910335ef8",
   "metadata": {},
   "outputs": [
    {
     "name": "stdout",
     "output_type": "stream",
     "text": [
      "45\n",
      "2\n"
     ]
    }
   ],
   "source": [
    "# Q 2 (ii)\n",
    "print (min(t))\n",
    "print (t.count(min(t)))"
   ]
  },
  {
   "cell_type": "code",
   "execution_count": 19,
   "id": "c46c3a7f-5edf-4d4b-b680-228a3d8d29bf",
   "metadata": {},
   "outputs": [
    {
     "name": "stdout",
     "output_type": "stream",
     "text": [
      "[45, 89.5, 76, 45.4, 89, 92, 58, 45]\n"
     ]
    }
   ],
   "source": [
    "# Q 2 (iii)\n",
    "list(t).reverse ()\n",
    "print (list(t))"
   ]
  },
  {
   "cell_type": "code",
   "execution_count": 21,
   "id": "c31257ff-2bf8-4ffa-8479-ddd088896e49",
   "metadata": {},
   "outputs": [
    {
     "name": "stdin",
     "output_type": "stream",
     "text": [
      "Enter the number :  76\n"
     ]
    },
    {
     "name": "stdout",
     "output_type": "stream",
     "text": [
      "2\n"
     ]
    }
   ],
   "source": [
    "# Q 2 (iv)\n",
    "n = int(input(\"Enter the number : \"))\n",
    "if n in t:\n",
    "    print (t.index(n))\n",
    "else:\n",
    "    print (\"Number not present\")"
   ]
  },
  {
   "cell_type": "code",
   "execution_count": 23,
   "id": "02a739c1-52d3-4fc3-a8ff-949b29a2097c",
   "metadata": {},
   "outputs": [
    {
     "name": "stdout",
     "output_type": "stream",
     "text": [
      "Odd numbers: [123, 117, 597, 325, 793, 473, 191, 581, 335, 155, 569, 533, 343, 391, 155, 683, 833, 433, 357, 849, 377, 183, 111, 379, 179, 109, 691, 819, 773, 189, 523, 657, 341, 365, 563, 677, 653, 799, 871, 681, 657, 835, 581, 451, 265, 261, 205, 733, 609, 201, 303, 629]\n"
     ]
    }
   ],
   "source": [
    "# Q 3 (i)\n",
    "import random\n",
    "random_numbers = [random.randint(100, 900) for _ in range(100)]\n",
    "odd_numbers = [num for num in random_numbers if num % 2 != 0]\n",
    "print(f\"Odd numbers: {odd_numbers}\")"
   ]
  },
  {
   "cell_type": "code",
   "execution_count": 24,
   "id": "c247b778-047a-470d-b3b2-272d35051e2e",
   "metadata": {},
   "outputs": [
    {
     "name": "stdout",
     "output_type": "stream",
     "text": [
      "Even numbers: [592, 286, 636, 644, 124, 264, 222, 426, 864, 436, 858, 436, 838, 806, 206, 216, 814, 574, 250, 486, 282, 472, 580, 148, 490, 416, 192, 658, 622, 252, 432, 586, 658, 376, 402, 462, 556, 728, 726, 346, 650, 212, 762, 356, 446, 888, 150, 110]\n"
     ]
    }
   ],
   "source": [
    "# Q (ii)\n",
    "even_numbers = [num for num in random_numbers if num % 2 == 0]\n",
    "print(f\"Even numbers: {even_numbers}\")"
   ]
  },
  {
   "cell_type": "code",
   "execution_count": 25,
   "id": "660ff997-e306-4b6f-bd1e-c28db79c1597",
   "metadata": {},
   "outputs": [
    {
     "name": "stdout",
     "output_type": "stream",
     "text": [
      "Prime numbers: [191, 569, 683, 433, 379, 179, 109, 691, 773, 523, 563, 677, 653, 733]\n"
     ]
    }
   ],
   "source": [
    "# Q 3 (iii)\n",
    "def is_prime(num):\n",
    "    if num < 2:\n",
    "        return False\n",
    "    for i in range(2, int(num**0.5) + 1):\n",
    "        if num % i == 0:\n",
    "            return False\n",
    "    return True\n",
    "\n",
    "prime_numbers = [num for num in random_numbers if is_prime(num)]\n",
    "print(f\"Prime numbers: {prime_numbers}\")"
   ]
  },
  {
   "cell_type": "code",
   "execution_count": 26,
   "id": "760997f7-db69-4534-9426-25b51b8b74ad",
   "metadata": {},
   "outputs": [
    {
     "name": "stdout",
     "output_type": "stream",
     "text": [
      "{34, 45, 78, 23, 56, 90}\n"
     ]
    }
   ],
   "source": [
    "# Q 4 (i)\n",
    "A = {34, 56, 78, 90}\n",
    "B = {78, 45, 90, 23}\n",
    "print (A | B)"
   ]
  },
  {
   "cell_type": "code",
   "execution_count": 27,
   "id": "8e255806-c126-46fa-820d-43db1365a221",
   "metadata": {},
   "outputs": [
    {
     "name": "stdout",
     "output_type": "stream",
     "text": [
      "{90, 78}\n"
     ]
    }
   ],
   "source": [
    "# Q 4 (ii)\n",
    "print (A & B)"
   ]
  },
  {
   "cell_type": "code",
   "execution_count": 28,
   "id": "ffe2f28f-183e-44c9-8d09-947a95c28702",
   "metadata": {},
   "outputs": [
    {
     "name": "stdout",
     "output_type": "stream",
     "text": [
      "{34, 45, 23, 56}\n"
     ]
    }
   ],
   "source": [
    "# Q 4 (iii)\n",
    "print (A ^ B)"
   ]
  },
  {
   "cell_type": "code",
   "execution_count": 30,
   "id": "568e597b-e35e-4eb2-af65-3593aeba2012",
   "metadata": {},
   "outputs": [
    {
     "data": {
      "text/plain": [
       "False"
      ]
     },
     "execution_count": 30,
     "metadata": {},
     "output_type": "execute_result"
    }
   ],
   "source": [
    "# Q (iv)\n",
    "A.issubset (B)\n",
    "B.issuperset (A)"
   ]
  },
  {
   "cell_type": "code",
   "execution_count": 31,
   "id": "ae753a7d-9469-478d-8044-6f31d79a8a07",
   "metadata": {},
   "outputs": [
    {
     "name": "stdin",
     "output_type": "stream",
     "text": [
      "Enter a score to remove from set A:  90\n"
     ]
    },
    {
     "name": "stdout",
     "output_type": "stream",
     "text": [
      "Score 90 removed from set A. Updated set A: {56, 34, 78}\n"
     ]
    }
   ],
   "source": [
    "# Q 4 (v)\n",
    "specific_score_X = int(input(\"Enter a score to remove from set A: \"))\n",
    "if specific_score_X in A:\n",
    "    A.remove(specific_score_X)\n",
    "    print(f\"Score {specific_score_X} removed from set A. Updated set A: {A}\")\n",
    "else:\n",
    "    print(f\"Score {specific_score_X} is not present in set A.\")"
   ]
  },
  {
   "cell_type": "code",
   "execution_count": 32,
   "id": "2317d38f-a715-4055-b22a-e13f6131a9f2",
   "metadata": {},
   "outputs": [
    {
     "name": "stdout",
     "output_type": "stream",
     "text": [
      "{'name': 'Kelly', 'age': 25, 'salary': 8000, 'location': 'New york'}\n"
     ]
    }
   ],
   "source": [
    "# Q 5\n",
    "sample_dict = {\n",
    "    \"name\": \"Kelly\",\n",
    "    \"age\": 25,\n",
    "    \"salary\": 8000,\n",
    "    \"city\": \"New york\"\n",
    "}\n",
    "sample_dict[\"location\"] = sample_dict.pop(\"city\")\n",
    "print (sample_dict)"
   ]
  },
  {
   "cell_type": "code",
   "execution_count": null,
   "id": "ee192d7d-4a64-4305-9646-4f75b09964e8",
   "metadata": {},
   "outputs": [],
   "source": []
  }
 ],
 "metadata": {
  "kernelspec": {
   "display_name": "Python 3 (ipykernel)",
   "language": "python",
   "name": "python3"
  },
  "language_info": {
   "codemirror_mode": {
    "name": "ipython",
    "version": 3
   },
   "file_extension": ".py",
   "mimetype": "text/x-python",
   "name": "python",
   "nbconvert_exporter": "python",
   "pygments_lexer": "ipython3",
   "version": "3.13.1"
  }
 },
 "nbformat": 4,
 "nbformat_minor": 5
}
