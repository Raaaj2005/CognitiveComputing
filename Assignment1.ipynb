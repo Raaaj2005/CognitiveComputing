{
 "cells": [
  {
   "cell_type": "code",
   "execution_count": 1,
   "id": "c5f88af0-adc0-4638-a8c8-636872be7349",
   "metadata": {},
   "outputs": [
    {
     "name": "stdout",
     "output_type": "stream",
     "text": [
      "Raj\n",
      "Raj\n",
      "Raj\n"
     ]
    }
   ],
   "source": [
    "# Q 1.1\n",
    "for i in range (1,4):\n",
    "    print (\"Raj\")"
   ]
  },
  {
   "cell_type": "code",
   "execution_count": 2,
   "id": "5c713a4d-644c-4af6-a127-f95e9db20112",
   "metadata": {},
   "outputs": [
    {
     "name": "stdin",
     "output_type": "stream",
     "text": [
      "Enter the First Number :  10\n",
      "Enter the Second Number :  20\n",
      "Enter the Third Number :  30\n"
     ]
    },
    {
     "name": "stdout",
     "output_type": "stream",
     "text": [
      "10  +  20  +  30  =  60\n"
     ]
    }
   ],
   "source": [
    "# Q 2.1\n",
    "a = int(input(\"Enter the First Number : \"))\n",
    "b = int(input(\"Enter the Second Number : \"))\n",
    "c = int(input(\"Enter the Third Number : \"))\n",
    "print (a, \" + \", b, \" + \", c, \" = \", a + b + c)"
   ]
  },
  {
   "cell_type": "code",
   "execution_count": 3,
   "id": "65a2efd6-bae9-4db7-aad5-760d2e1d22f4",
   "metadata": {},
   "outputs": [
    {
     "name": "stdout",
     "output_type": "stream",
     "text": [
      "Programming in Python\n"
     ]
    }
   ],
   "source": [
    "# Q 2.2\n",
    "a = \"Programming \"\n",
    "b = \"in \"\n",
    "c = \"Python\"\n",
    "print (a + b + c)"
   ]
  },
  {
   "cell_type": "code",
   "execution_count": 15,
   "id": "a9da308e-91c7-44c6-8c85-2fa946070ae5",
   "metadata": {},
   "outputs": [
    {
     "name": "stdout",
     "output_type": "stream",
     "text": [
      "Table of 7 : \n",
      "7 x  1  =  7\n",
      "7 x  2  =  14\n",
      "7 x  3  =  21\n",
      "7 x  4  =  28\n",
      "7 x  5  =  35\n",
      "7 x  6  =  42\n",
      "7 x  7  =  49\n",
      "7 x  8  =  56\n",
      "7 x  9  =  63\n",
      "7 x  10  =  70\n",
      "Table of 9 : \n",
      "9 x  1  =  9\n",
      "9 x  2  =  18\n",
      "9 x  3  =  27\n",
      "9 x  4  =  36\n",
      "9 x  5  =  45\n",
      "9 x  6  =  54\n",
      "9 x  7  =  63\n",
      "9 x  8  =  72\n",
      "9 x  9  =  81\n",
      "9 x  10  =  90\n"
     ]
    }
   ],
   "source": [
    "# Q 4.1\n",
    "print (\"Table of 7 : \")\n",
    "for i in range (1,11):\n",
    "    print (\"7 x \",i,\" = \",7 * i)\n",
    "print (\"Table of 9 : \")\n",
    "for i in range (1,11):\n",
    "    print (\"9 x \",i,\" = \",9 * i)"
   ]
  },
  {
   "cell_type": "code",
   "execution_count": 18,
   "id": "dd176122-5482-44ed-a3e1-7e56ac323f29",
   "metadata": {},
   "outputs": [
    {
     "name": "stdin",
     "output_type": "stream",
     "text": [
      "Enter any positive integer :  10\n"
     ]
    },
    {
     "name": "stdout",
     "output_type": "stream",
     "text": [
      "10  x  1  =  10\n",
      "10  x  2  =  20\n",
      "10  x  3  =  30\n",
      "10  x  4  =  40\n",
      "10  x  5  =  50\n",
      "10  x  6  =  60\n",
      "10  x  7  =  70\n",
      "10  x  8  =  80\n",
      "10  x  9  =  90\n",
      "10  x  10  =  100\n"
     ]
    }
   ],
   "source": [
    "# Q 4.2\n",
    "n = int(input(\"Enter any positive integer : \"))\n",
    "for i in range (1,11):\n",
    "    print (n,\" x \",i,\" = \",n*i)"
   ]
  },
  {
   "cell_type": "code",
   "execution_count": 19,
   "id": "7be79c1a-83ae-4ea9-9b25-aede5e0f415c",
   "metadata": {},
   "outputs": [
    {
     "name": "stdin",
     "output_type": "stream",
     "text": [
      "Enter any positive integer :  10\n"
     ]
    },
    {
     "name": "stdout",
     "output_type": "stream",
     "text": [
      "55\n"
     ]
    }
   ],
   "source": [
    "# Q 4.3\n",
    "n = int(input(\"Enter any positive integer : \"))\n",
    "sum = 0\n",
    "for i in range (1,n+1):\n",
    "    sum = sum + i\n",
    "print (sum)"
   ]
  },
  {
   "cell_type": "code",
   "execution_count": 4,
   "id": "2484b5a4-9619-4077-bded-e4221b4c2bc9",
   "metadata": {},
   "outputs": [
    {
     "name": "stdin",
     "output_type": "stream",
     "text": [
      "Enter the First Number :  5\n",
      "Enter the Second Number :  7\n",
      "Enter the Third Number :  9\n"
     ]
    },
    {
     "name": "stdout",
     "output_type": "stream",
     "text": [
      "The largest number out of the entered numbers is :  9\n"
     ]
    }
   ],
   "source": [
    "# Q 5.1\n",
    "a = int(input(\"Enter the First Number : \"))\n",
    "b = int(input(\"Enter the Second Number : \"))\n",
    "c = int(input(\"Enter the Third Number : \"))\n",
    "print (\"The largest number out of the entered numbers is : \", max (a,b,c))"
   ]
  },
  {
   "cell_type": "code",
   "execution_count": 5,
   "id": "da561f6f-40e3-4082-96ca-910d0d09d1e6",
   "metadata": {},
   "outputs": [
    {
     "name": "stdin",
     "output_type": "stream",
     "text": [
      "Enter any positive integer :  70\n"
     ]
    },
    {
     "name": "stdout",
     "output_type": "stream",
     "text": [
      "63\n"
     ]
    }
   ],
   "source": [
    "# Q 5.2\n",
    "n = int(input(\"Enter any positive integer : \"))\n",
    "sum = 0\n",
    "for i in range (1,n+1):\n",
    "    if i % 7 == 0 and i % 9 == 0:\n",
    "        sum = sum + i\n",
    "print (sum)"
   ]
  },
  {
   "cell_type": "code",
   "execution_count": 7,
   "id": "8e0ec9f4-80b1-4044-a85d-bd6d2c844f29",
   "metadata": {},
   "outputs": [
    {
     "name": "stdin",
     "output_type": "stream",
     "text": [
      "Enter any positive integer :  10\n"
     ]
    },
    {
     "name": "stdout",
     "output_type": "stream",
     "text": [
      "62\n"
     ]
    }
   ],
   "source": [
    "# Q 5.3\n",
    "n = int(input(\"Enter any positive integer : \"))\n",
    "sum = 0\n",
    "for i in range (2,n+1):\n",
    "    flag = 1\n",
    "    for j in range (2,n+1):\n",
    "        if i % j == 0:\n",
    "            flag = 0\n",
    "            break\n",
    "        if flag == 1:\n",
    "            sum = sum + i\n",
    "print (sum)"
   ]
  },
  {
   "cell_type": "code",
   "execution_count": 9,
   "id": "894e550c-2914-49b4-b8c3-60be4201a566",
   "metadata": {},
   "outputs": [
    {
     "name": "stdin",
     "output_type": "stream",
     "text": [
      "Enter any positive integer :  10\n"
     ]
    },
    {
     "name": "stdout",
     "output_type": "stream",
     "text": [
      "25\n"
     ]
    }
   ],
   "source": [
    "# Q 6.1\n",
    "def AddOdd (n):\n",
    "    sum = 0\n",
    "    for i in range (1,n+1):\n",
    "        if i % 2 != 0:\n",
    "            sum = sum + i\n",
    "    print (sum)\n",
    "    \n",
    "n = int(input(\"Enter any positive integer : \"))\n",
    "AddOdd (n)"
   ]
  },
  {
   "cell_type": "code",
   "execution_count": 13,
   "id": "ee059234-06b2-4685-8ac4-18d44e02aa9d",
   "metadata": {},
   "outputs": [
    {
     "name": "stdin",
     "output_type": "stream",
     "text": [
      "Enter any positive integer :  10\n"
     ]
    },
    {
     "name": "stdout",
     "output_type": "stream",
     "text": [
      "62\n"
     ]
    }
   ],
   "source": [
    "# Q 6.2\n",
    "def AddPrime (n):\n",
    "    sum = 0\n",
    "    for i in range (2,n+1):\n",
    "        flag = 1\n",
    "        for j in range (2,n+1):\n",
    "            if i % j == 0:\n",
    "                flag = 0\n",
    "                break\n",
    "            if flag == 1:\n",
    "                sum = sum + i\n",
    "    print (sum)\n",
    "\n",
    "n = int(input(\"Enter any positive integer : \"))\n",
    "AddPrime (n)"
   ]
  },
  {
   "cell_type": "code",
   "execution_count": null,
   "id": "5d6900bb-e3d1-4a85-b000-cf220f0802d1",
   "metadata": {},
   "outputs": [],
   "source": []
  }
 ],
 "metadata": {
  "kernelspec": {
   "display_name": "Python 3 (ipykernel)",
   "language": "python",
   "name": "python3"
  },
  "language_info": {
   "codemirror_mode": {
    "name": "ipython",
    "version": 3
   },
   "file_extension": ".py",
   "mimetype": "text/x-python",
   "name": "python",
   "nbconvert_exporter": "python",
   "pygments_lexer": "ipython3",
   "version": "3.13.1"
  }
 },
 "nbformat": 4,
 "nbformat_minor": 5
}
