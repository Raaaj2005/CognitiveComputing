{
 "cells": [
  {
   "cell_type": "code",
   "execution_count": 1,
   "id": "77880002-1361-4f7d-8e92-ab67dbf5885a",
   "metadata": {},
   "outputs": [
    {
     "name": "stdout",
     "output_type": "stream",
     "text": [
      "After adding 2: [12 22 32 42 52]\n",
      "After multiplying by 3: [ 30  60  90 120 150]\n",
      "After dividing by 2: [ 5. 10. 15. 20. 25.]\n"
     ]
    }
   ],
   "source": [
    "# Q 1\n",
    "import numpy as np\n",
    "arr = np.array([10, 20, 30, 40, 50])\n",
    "add_result = arr + 2\n",
    "print(\"After adding 2:\", add_result)\n",
    "multiply_result = arr * 3\n",
    "print(\"After multiplying by 3:\", multiply_result)\n",
    "divide_result = arr / 2\n",
    "print(\"After dividing by 2:\", divide_result)"
   ]
  },
  {
   "cell_type": "code",
   "execution_count": 2,
   "id": "3db6303f-665e-46f5-b99c-3100d4371d8d",
   "metadata": {},
   "outputs": [
    {
     "name": "stdout",
     "output_type": "stream",
     "text": [
      "Reversed array: [5 4 6 3 2 1]\n",
      "Most frequent value in x: 1 at indices [0 5 7 8 9]\n",
      "Most frequent value in y: 1 at indices [0 1 2]\n"
     ]
    }
   ],
   "source": [
    "# Q 2\n",
    "import numpy as np\n",
    "# Reverse a NumPy array\n",
    "arr = np.array([1, 2, 3, 6, 4, 5])\n",
    "reversed_arr = arr[::-1]\n",
    "print(\"Reversed array:\", reversed_arr)\n",
    "# Find the most frequent value and indices\n",
    "def most_frequent(arr):\n",
    "    values, counts = np.unique(arr, return_counts=True)\n",
    "    max_count = np.max(counts)\n",
    "    most_frequent_value = values[counts == max_count][0]\n",
    "    indices = np.where(arr == most_frequent_value)[0]\n",
    "    return most_frequent_value, indices\n",
    "x = np.array([1,2,3,4,5,1,2,1,1,1])\n",
    "y = np.array([1, 1, 1, 2, 3, 4, 2, 4, 3, 3])\n",
    "most_frequent_x, indices_x = most_frequent(x)\n",
    "print(\"Most frequent value in x:\", most_frequent_x, \"at indices\", indices_x)\n",
    "most_frequent_y, indices_y = most_frequent(y)\n",
    "print(\"Most frequent value in y:\", most_frequent_y, \"at indices\", indices_y)"
   ]
  },
  {
   "cell_type": "code",
   "execution_count": 3,
   "id": "21c23a62-975c-4138-9081-8259dfdb5500",
   "metadata": {},
   "outputs": [
    {
     "name": "stdout",
     "output_type": "stream",
     "text": [
      "Element at 1st row, 2nd column: 20\n",
      "Element at 3rd row, 1st column: 70\n"
     ]
    }
   ],
   "source": [
    "# Q 3\n",
    "import numpy as np\n",
    "arr = np.array([[10, 20, 30], [40, 50, 60], [70, 80, 90]])\n",
    "# a) Access 1st row, 2nd column\n",
    "element_1_2 = arr[0, 1]\n",
    "print(\"Element at 1st row, 2nd column:\", element_1_2)\n",
    "# b) Access 3rd row, 1st column\n",
    "element_3_1 = arr[2, 0]\n",
    "print(\"Element at 3rd row, 1st column:\", element_3_1)"
   ]
  },
  {
   "cell_type": "code",
   "execution_count": 4,
   "id": "d198a774-dd9a-4c96-bc58-7e0edd4e1725",
   "metadata": {},
   "outputs": [
    {
     "name": "stdout",
     "output_type": "stream",
     "text": [
      "Dimensions: 1\n",
      "Shape: (25,)\n",
      "Total Elements: 25\n",
      "Data Type: float64\n",
      "Total Bytes Consumed: 200\n",
      "Transposed using reshape():\n",
      " [[ 10.  ]\n",
      " [ 13.75]\n",
      " [ 17.5 ]\n",
      " [ 21.25]\n",
      " [ 25.  ]\n",
      " [ 28.75]\n",
      " [ 32.5 ]\n",
      " [ 36.25]\n",
      " [ 40.  ]\n",
      " [ 43.75]\n",
      " [ 47.5 ]\n",
      " [ 51.25]\n",
      " [ 55.  ]\n",
      " [ 58.75]\n",
      " [ 62.5 ]\n",
      " [ 66.25]\n",
      " [ 70.  ]\n",
      " [ 73.75]\n",
      " [ 77.5 ]\n",
      " [ 81.25]\n",
      " [ 85.  ]\n",
      " [ 88.75]\n",
      " [ 92.5 ]\n",
      " [ 96.25]\n",
      " [100.  ]]\n",
      "Transposed using T attribute:\n",
      " [ 10.    13.75  17.5   21.25  25.    28.75  32.5   36.25  40.    43.75\n",
      "  47.5   51.25  55.    58.75  62.5   66.25  70.    73.75  77.5   81.25\n",
      "  85.    88.75  92.5   96.25 100.  ]\n"
     ]
    }
   ],
   "source": [
    "# Q 4\n",
    "import numpy as np\n",
    "# Create a 1-D NumPy array with evenly spaced 25 numbers from 10 to 100\n",
    "my_array = np.linspace(10, 100, 25)\n",
    "# Print array properties\n",
    "dimensions = my_array.ndim\n",
    "shape = my_array.shape\n",
    "total_elements = my_array.size\n",
    "data_type = my_array.dtype\n",
    "total_bytes = my_array.nbytes\n",
    "print(\"Dimensions:\", dimensions)\n",
    "print(\"Shape:\", shape)\n",
    "print(\"Total Elements:\", total_elements)\n",
    "print(\"Data Type:\", data_type)\n",
    "print(\"Total Bytes Consumed:\", total_bytes)\n",
    "# Find the transpose using reshape()\n",
    "transposed_array = my_array.reshape(25, 1)\n",
    "print(\"Transposed using reshape():\\n\", transposed_array)\n",
    "# Checking transpose using T attribute\n",
    "transposed_T = my_array.T\n",
    "print(\"Transposed using T attribute:\\n\", transposed_T)\n",
    "# Explanation: The T attribute does not work on 1-D arrays, as transposing a 1-D array does not change its shape."
   ]
  },
  {
   "cell_type": "code",
   "execution_count": 5,
   "id": "7fae2baa-f313-4f97-a95d-df917bf51b3d",
   "metadata": {},
   "outputs": [
    {
     "name": "stdout",
     "output_type": "stream",
     "text": [
      "Mean: 43.333333333333336\n",
      "Median: 37.5\n",
      "Max: 90\n",
      "Min: 10\n",
      "Unique Elements: [10 15 20 30 35 40 50 60 70 80 90]\n",
      "Reshaped Array (4x3):\n",
      " [[10 20 30]\n",
      " [40 50 60]\n",
      " [70 80 90]\n",
      " [15 20 35]]\n",
      "Resized Array (2x3):\n",
      " [[10 20 30]\n",
      " [40 50 60]]\n"
     ]
    }
   ],
   "source": [
    "# Q 5\n",
    "import numpy as np\n",
    "# Create a 2-D array\n",
    "ucs420_myname = np.array([[10, 20, 30, 40], [50, 60, 70, 80], [90, 15, 20, 35]])\n",
    "# Compute statistical values\n",
    "mean_value = np.mean(ucs420_myname)\n",
    "median_value = np.median(ucs420_myname)\n",
    "max_value = np.max(ucs420_myname)\n",
    "min_value = np.min(ucs420_myname)\n",
    "unique_elements = np.unique(ucs420_myname)\n",
    "print(\"Mean:\", mean_value)\n",
    "print(\"Median:\", median_value)\n",
    "print(\"Max:\", max_value)\n",
    "print(\"Min:\", min_value)\n",
    "print(\"Unique Elements:\", unique_elements)\n",
    "# Reshape the array to 4 rows and 3 columns\n",
    "reshaped_ucs420_myname = ucs420_myname.reshape(4, 3)\n",
    "print(\"Reshaped Array (4x3):\\n\", reshaped_ucs420_myname)\n",
    "# Resize the array to 2 rows and 3 columns\n",
    "resized_ucs420_myname = np.resize(ucs420_myname, (2, 3))\n",
    "print(\"Resized Array (2x3):\\n\", resized_ucs420_myname)\n"
   ]
  }
 ],
 "metadata": {
  "kernelspec": {
   "display_name": "Python 3 (ipykernel)",
   "language": "python",
   "name": "python3"
  },
  "language_info": {
   "codemirror_mode": {
    "name": "ipython",
    "version": 3
   },
   "file_extension": ".py",
   "mimetype": "text/x-python",
   "name": "python",
   "nbconvert_exporter": "python",
   "pygments_lexer": "ipython3",
   "version": "3.13.1"
  }
 },
 "nbformat": 4,
 "nbformat_minor": 5
}
